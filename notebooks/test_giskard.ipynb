{
 "cells": [
  {
   "cell_type": "markdown",
   "id": "c32f6e61",
   "metadata": {},
   "source": [
    "# ANALYSE AI RISKS WITH GISKARD\n",
    "cf https://www.giskard.ai/"
   ]
  },
  {
   "cell_type": "code",
   "execution_count": null,
   "id": "11d4a484",
   "metadata": {},
   "outputs": [],
   "source": [
    "%pip install giskard -U"
   ]
  },
  {
   "cell_type": "code",
   "execution_count": null,
   "id": "d3a7ac4b",
   "metadata": {
    "lines_to_next_cell": 2
   },
   "outputs": [],
   "source": [
    "from dissidentia.domain.model_wrapper import DissidentModelWrapper\n",
    "from dissidentia.infrastructure.dataset import load_dataset\n",
    "from giskard import Dataset, Model, scan\n",
    "import pandas as pd\n",
    "import numpy as np"
   ]
  },
  {
   "cell_type": "code",
   "execution_count": null,
   "id": "6bbe1374",
   "metadata": {},
   "outputs": [],
   "source": [
    "X, label = load_dataset()\n",
    "df_raw = pd.concat([X, label], axis=1)\n",
    "TEXT_COLUMN = \"text\"\n",
    "TARGET_COLUMN = \"label\"\n",
    "LABEL_MAPPING = {0: 0, 1: 1}"
   ]
  },
  {
   "cell_type": "code",
   "execution_count": null,
   "id": "69228628",
   "metadata": {},
   "outputs": [],
   "source": [
    "giskard_dataset = Dataset(\n",
    "    df=df_raw,\n",
    "    target=TARGET_COLUMN,  # Ground truth variable.\n",
    "    name=\"Dissident detection\",  # Optional.\n",
    ")"
   ]
  },
  {
   "cell_type": "code",
   "execution_count": null,
   "id": "b5b46bc3",
   "metadata": {
    "lines_to_next_cell": 0
   },
   "outputs": [],
   "source": [
    "model = DissidentModelWrapper.load(\"BertTypeClassifier\").model"
   ]
  },
  {
   "cell_type": "raw",
   "id": "124224c5",
   "metadata": {},
   "source": [
    "model.predict_proba([\"Bravo à nos dirigeants pour cet excellent travail !!.\",\n",
    "               \"Ce gouvernement est vraiment nul!\",\n",
    "               \"Tous des pourris. Démission !!\"])"
   ]
  },
  {
   "cell_type": "code",
   "execution_count": null,
   "id": "fd1a5fcc",
   "metadata": {},
   "outputs": [],
   "source": [
    "def prediction_function(df: pd.DataFrame) -> np.ndarray:\n",
    "    output = model.predict_proba(df[TEXT_COLUMN])\n",
    "    return output[:, 1]"
   ]
  },
  {
   "cell_type": "raw",
   "id": "88c99eb6",
   "metadata": {},
   "source": [
    "prediction_function(df_raw.head())"
   ]
  },
  {
   "cell_type": "code",
   "execution_count": null,
   "id": "a94ef424",
   "metadata": {},
   "outputs": [],
   "source": [
    "giskard_model = Model(\n",
    "    model=prediction_function,  # A prediction function that encapsulates all the data pre-processing steps and that\n",
    "    model_type=\"classification\",  # Either regression, classification or text_generation.\n",
    "    name=\"Dissident detection\",  # Optional\n",
    "    classification_labels=list(\n",
    "        LABEL_MAPPING.values()\n",
    "    ),  # Their order MUST be identical to the prediction_function's\n",
    "    feature_names=[TEXT_COLUMN],  # Default: all columns of your dataset\n",
    ")"
   ]
  },
  {
   "cell_type": "code",
   "execution_count": null,
   "id": "a13cc9bc",
   "metadata": {},
   "outputs": [],
   "source": [
    "results = scan(giskard_model, giskard_dataset)"
   ]
  },
  {
   "cell_type": "code",
   "execution_count": null,
   "id": "06618c34",
   "metadata": {},
   "outputs": [],
   "source": [
    "display(results)"
   ]
  },
  {
   "cell_type": "code",
   "execution_count": null,
   "id": "19619b92",
   "metadata": {},
   "outputs": [],
   "source": [
    "# Save it to a file\n",
    "results.to_html(\"giskard_scan_report.html\")"
   ]
  }
 ],
 "metadata": {
  "kernelspec": {
   "display_name": "dissidentia",
   "language": "python",
   "name": "dissidentia"
  },
  "language_info": {
   "codemirror_mode": {
    "name": "ipython",
    "version": 3
   },
   "file_extension": ".py",
   "mimetype": "text/x-python",
   "name": "python",
   "nbconvert_exporter": "python",
   "pygments_lexer": "ipython3",
   "version": "3.10.9"
  }
 },
 "nbformat": 4,
 "nbformat_minor": 5
}
