{
 "cells": [
  {
   "cell_type": "markdown",
   "id": "42edb0b2",
   "metadata": {},
   "source": [
    "# Annotation"
   ]
  },
  {
   "cell_type": "code",
   "execution_count": null,
   "id": "af2f75a1",
   "metadata": {},
   "outputs": [],
   "source": [
    "import logging\n",
    "logging.getLogger().setLevel(logging.INFO)\n",
    "import sys\n",
    "sys.path.append(\"..\")"
   ]
  },
  {
   "cell_type": "code",
   "execution_count": null,
   "id": "17d968f0",
   "metadata": {},
   "outputs": [],
   "source": [
    "import pandas as pd\n",
    "import numpy as np\n",
    "from tqdm import tqdm\n",
    "import re"
   ]
  },
  {
   "cell_type": "markdown",
   "id": "7dcdbe99",
   "metadata": {
    "tags": []
   },
   "source": [
    "## Annotation helpers"
   ]
  },
  {
   "cell_type": "code",
   "execution_count": null,
   "id": "25f61f55-5058-4de3-acd6-d9b03d1c7866",
   "metadata": {},
   "outputs": [],
   "source": [
    "from dissidentia.infrastructure.doccano import DoccanoDataset\n",
    "import os; os.environ[\"DOCCANO_LOGIN\"] = \"yotta-charles-henri\"; os.environ[\"DOCCANO_PASSWORD\"]=\"regex>DL\"\n",
    "dds = DoccanoDataset()"
   ]
  },
  {
   "cell_type": "code",
   "execution_count": null,
   "id": "c0a5d30f-1014-4e30-bf73-4e247db65536",
   "metadata": {},
   "outputs": [],
   "source": [
    "df_dds = dds.load_data(only_approved=False)"
   ]
  },
  {
   "cell_type": "code",
   "execution_count": null,
   "id": "6319c3da",
   "metadata": {},
   "outputs": [],
   "source": [
    "from dissidentia.infrastructure.grand_debat import GDAnswers\n",
    "sentences = GDAnswers().load_sentences()"
   ]
  },
  {
   "cell_type": "code",
   "execution_count": null,
   "id": "4d3257b7",
   "metadata": {},
   "outputs": [],
   "source": [
    "sentences.info()"
   ]
  },
  {
   "cell_type": "markdown",
   "id": "5a1845ee-7b30-4606-8ad8-2bf69347e3d1",
   "metadata": {
    "jp-MarkdownHeadingCollapsed": true,
    "tags": []
   },
   "source": [
    "### with sentiment analysis"
   ]
  },
  {
   "cell_type": "code",
   "execution_count": null,
   "id": "6441393d",
   "metadata": {},
   "outputs": [],
   "source": [
    "import torch\n",
    "from transformers import AutoTokenizer, AutoModelForSequenceClassification\n",
    "tokenizer = AutoTokenizer.from_pretrained(\"nlptown/bert-base-multilingual-uncased-sentiment\")\n",
    "model = AutoModelForSequenceClassification.from_pretrained(\"nlptown/bert-base-multilingual-uncased-sentiment\")"
   ]
  },
  {
   "cell_type": "code",
   "execution_count": null,
   "id": "91e81c45",
   "metadata": {},
   "outputs": [],
   "source": [
    "def predict_huggingface(test_sentence):\n",
    "    inputs = tokenizer(test_sentence, return_tensors=\"pt\")\n",
    "\n",
    "    with torch.no_grad():\n",
    "        try:\n",
    "            logits = model(**inputs).logits\n",
    "        except:\n",
    "            return -1\n",
    "        \n",
    "    predicted_class_id = logits.argmax().item()\n",
    "    softmaxFunc = torch.nn.Softmax(dim=1)\n",
    "    softmaxScores = softmaxFunc(logits)\n",
    "    probas = softmaxScores[0].detach().numpy()\n",
    "    \n",
    "    return np.sum(probas * np.arange(5)) / 4\n",
    "\n",
    "predict_huggingface(\"c'est archi nul !\")"
   ]
  },
  {
   "cell_type": "code",
   "execution_count": null,
   "id": "8d60f2a8",
   "metadata": {
    "scrolled": true
   },
   "outputs": [],
   "source": [
    "hf_predict = [predict_huggingface(sentence) for sentence in tqdm(sentences.text[:100])]"
   ]
  },
  {
   "cell_type": "code",
   "execution_count": null,
   "id": "4fcdfa68",
   "metadata": {},
   "outputs": [],
   "source": [
    "df_gd = pd.DataFrame({\"sentences\": sentences.text[:100], \"hf_pred\": hf_predict})\n",
    "df_gd.head()"
   ]
  },
  {
   "cell_type": "markdown",
   "id": "36c92dfe-a66c-4f4f-96ec-440e87c4c97a",
   "metadata": {
    "jp-MarkdownHeadingCollapsed": true,
    "tags": []
   },
   "source": [
    "### with terms matching"
   ]
  },
  {
   "cell_type": "code",
   "execution_count": null,
   "id": "08632bda-8f9c-4e98-aabe-24a4976ec2c4",
   "metadata": {},
   "outputs": [],
   "source": [
    "dissident_voc = [\"copinage\", \"corrompu\", \"incompétent\"]\n",
    "dissident_candidate = sentences.text.apply(lambda x: any(word in x for word in dissident_voc))\n",
    "dissident_terms = sentences.loc[dissident_candidate]"
   ]
  },
  {
   "cell_type": "code",
   "execution_count": null,
   "id": "eff1f026-7628-4aea-be85-68561fa86838",
   "metadata": {},
   "outputs": [],
   "source": []
  },
  {
   "cell_type": "code",
   "execution_count": null,
   "id": "03b2b392-76ab-4445-86ec-2361ef846a70",
   "metadata": {},
   "outputs": [],
   "source": [
    "df = dds.safe_upload_data(dissident_terms)"
   ]
  },
  {
   "cell_type": "markdown",
   "id": "94ef131d",
   "metadata": {
    "tags": []
   },
   "source": [
    "### with sentence similarity"
   ]
  },
  {
   "cell_type": "code",
   "execution_count": null,
   "id": "45e88053",
   "metadata": {},
   "outputs": [],
   "source": [
    "from sklearn.metrics.pairwise import cosine_similarity"
   ]
  },
  {
   "cell_type": "code",
   "execution_count": null,
   "id": "e9808926",
   "metadata": {},
   "outputs": [],
   "source": [
    "from sentence_transformers import SentenceTransformer\n",
    "model =  SentenceTransformer(\"dangvantuan/sentence-camembert-base\")"
   ]
  },
  {
   "cell_type": "code",
   "execution_count": null,
   "id": "f1ae76d5",
   "metadata": {},
   "outputs": [],
   "source": [
    "from tqdm import tqdm\n",
    "tqdm.pandas()"
   ]
  },
  {
   "cell_type": "code",
   "execution_count": null,
   "id": "fbb7044b",
   "metadata": {},
   "outputs": [],
   "source": [
    "sentences = GDAnswers().load_sentences().sample(1000)"
   ]
  },
  {
   "cell_type": "code",
   "execution_count": null,
   "id": "e920e8c5",
   "metadata": {
    "scrolled": true
   },
   "outputs": [],
   "source": [
    "sentences.info()"
   ]
  },
  {
   "cell_type": "code",
   "execution_count": null,
   "id": "d1ca3e30",
   "metadata": {},
   "outputs": [],
   "source": [
    "embedings = sentences.text.progress_apply(lambda x : model.encode(x, show_progress_bar=False))"
   ]
  },
  {
   "cell_type": "code",
   "execution_count": null,
   "id": "81e4c229-ebe7-41b8-93e1-d4b244ad74d4",
   "metadata": {
    "tags": []
   },
   "outputs": [],
   "source": [
    "df_dds.loc[df_dds.label == \"dissident\", \"text\"].values"
   ]
  },
  {
   "cell_type": "code",
   "execution_count": null,
   "id": "8c8fce44-9f73-43eb-9f3e-5bd04a2936d5",
   "metadata": {
    "tags": []
   },
   "outputs": [],
   "source": [
    "sent= \"Une gestion catastrophique de l'argent public.\"\n",
    "\n",
    "sent_enc = model.encode(sent, show_progress_bar=False).reshape(1,-1)\n",
    "\n",
    "cos_sim = embedings.apply(lambda x: cosine_similarity(x.reshape(1,-1), sent_enc)[0][0])\n",
    "\n",
    "sorted_sents = pd.concat([sentences, cos_sim.rename(\"similarity\")], axis=1).sort_values(\n",
    "    by=\"similarity\", ascending=False)\n",
    "HEAD_NUM=100\n",
    "sorted_sents.reset_index().head(HEAD_NUM).text.to_dict()"
   ]
  },
  {
   "cell_type": "code",
   "execution_count": null,
   "id": "f3cd807e-12b9-45be-a6c8-e6874314238b",
   "metadata": {},
   "outputs": [],
   "source": [
    "dds.safe_upload_data(sorted_sents.head(HEAD_NUM), proceed=True)"
   ]
  },
  {
   "cell_type": "markdown",
   "id": "27d82843-7b0a-4a0b-8e0e-d4578b9f552b",
   "metadata": {
    "jp-MarkdownHeadingCollapsed": true,
    "tags": []
   },
   "source": [
    "## Performance de la labelisation"
   ]
  },
  {
   "cell_type": "markdown",
   "id": "96414b45-63c1-4471-b3ab-4b74a3dd8e6e",
   "metadata": {},
   "source": [
    "### Retrieve doccano labelling\n",
    "\n",
    "first import doccano labels from web interface"
   ]
  },
  {
   "cell_type": "code",
   "execution_count": null,
   "id": "fb4f264c",
   "metadata": {},
   "outputs": [],
   "source": [
    "pd.DataFrame().empty"
   ]
  },
  {
   "cell_type": "code",
   "execution_count": null,
   "id": "b02d795b",
   "metadata": {},
   "outputs": [],
   "source": [
    "import json\n",
    "import os\n",
    "\n",
    "def retrieve_labelling(json_file):\n",
    "    ret = pd.DataFrame(json.load(open(json_file)))\n",
    "    if ret.empty:\n",
    "        return pd.DataFrame(columns=[\"sentendes\", \"label\"])\n",
    "    ret = ret.set_index(\"id\")\n",
    "    ret.label = ret.label.apply(lambda x: x[0] if len(x)>0 else None)\n",
    "    return ret"
   ]
  },
  {
   "cell_type": "code",
   "execution_count": null,
   "id": "1e89e3b8",
   "metadata": {},
   "outputs": [],
   "source": [
    "root_path = \"/Users/charlesprat/Downloads/0ba0c385-e509-4a9a-8824-d27d7dabf93a\"\n",
    "amir = retrieve_labelling(os.path.join(root_path,\"yotta-amir.json\"))\n",
    "charles = retrieve_labelling(os.path.join(root_path,\"yotta-charles-henri.json\"))\n",
    "moindze = retrieve_labelling(os.path.join(root_path,\"yotta-moindze.json\"))"
   ]
  },
  {
   "cell_type": "code",
   "execution_count": null,
   "id": "2712566f",
   "metadata": {},
   "outputs": [],
   "source": [
    "dfm = charles.join(amir.label.rename(\"amir\")).join(moindze.label.rename(\"moindze\")).rename(\n",
    "    columns={\"label\": \"charles\"}\n",
    ")"
   ]
  },
  {
   "cell_type": "code",
   "execution_count": null,
   "id": "d5d5a2d6",
   "metadata": {},
   "outputs": [],
   "source": [
    "dfm.to_csv(\"labels_merge.csv\")"
   ]
  },
  {
   "cell_type": "code",
   "execution_count": null,
   "id": "eff32a3e",
   "metadata": {},
   "outputs": [],
   "source": [
    "dfm[\"final\"] = dfm.moindze\n",
    "final_v2 = pd.read_csv(\"/Users/charlesprat/Downloads/labels_errors - labels_errors.csv\", index_col=\"id\")\n",
    "dfm.loc[final_v2.index,\"final\"] = final_v2.final\n",
    "\n",
    "dfm.to_csv(\"../data/labels_v2.csv\")"
   ]
  },
  {
   "cell_type": "code",
   "execution_count": null,
   "id": "3897d386",
   "metadata": {},
   "outputs": [],
   "source": [
    "pd.concat([pd.read_csv(\"../data/labels_v1.csv\"),\n",
    "           pd.read_csv(\"../data/labels_v2.csv\")])\n"
   ]
  },
  {
   "cell_type": "markdown",
   "id": "c5af17bd-3479-42e5-ab0d-f44d40cca62f",
   "metadata": {},
   "source": [
    "### Performance"
   ]
  },
  {
   "cell_type": "code",
   "execution_count": null,
   "id": "421d1c58",
   "metadata": {},
   "outputs": [],
   "source": [
    "from sklearn.metrics import accuracy_score"
   ]
  },
  {
   "cell_type": "code",
   "execution_count": null,
   "id": "146518f4",
   "metadata": {},
   "outputs": [],
   "source": [
    "#label_v1 = pd.read_csv(\"../data/labels_v1.csv\")\n",
    "label_v1 = pd.read_csv(\"labels_merge.csv\")\n",
    "\n",
    "def compute_accuracy(i_v1, i_v2):\n",
    "    null_val = i_v1.isnull() | i_v2.isnull()\n",
    "    v1 = i_v1[~null_val]\n",
    "    v2 = i_v2[~null_val]\n",
    "    drop_val = (v1 == \"inclassable\") | (v2==\"inclassable\")\n",
    "    annotation_yield = 1-drop_val.mean()\n",
    "    return accuracy_score(v1[~drop_val], v2[~drop_val]), annotation_yield\n",
    "\n",
    "annotators = [(\"moindze\", \"amir\"), (\"moindze\", \"charles\"), (\"amir\", \"charles\")]\n",
    "\n",
    "pd.DataFrame([compute_accuracy(label_v1[an1], label_v1[an2]) \n",
    "              for an1,an2 in annotators], \n",
    "             columns=[\"accuracy\", \"rendement\"],\n",
    "             index=[(an1,an2) for an1, an2 in annotators]\n",
    "            ).style.format(precision=2)\n"
   ]
  },
  {
   "cell_type": "code",
   "execution_count": null,
   "id": "c8f23ab9",
   "metadata": {},
   "outputs": [],
   "source": [
    "errors.loc[~inclassable].to_csv(\"labels_errors.csv\")\n"
   ]
  },
  {
   "cell_type": "code",
   "execution_count": null,
   "id": "2061796f",
   "metadata": {},
   "outputs": [],
   "source": [
    "errors = dfm.dropna()\n",
    "no_error = (errors.charles == errors.amir) & (errors.charles == errors.moindze)\n",
    "errors = errors.loc[~no_error]\n",
    "inclassable = (errors.charles == 'inclassable') | (errors.amir == 'inclassable') | (errors.moindze == \"inclassable\")\n",
    "display(errors.loc[~inclassable])\n",
    "errors"
   ]
  }
 ],
 "metadata": {
  "kernelspec": {
   "display_name": "base",
   "language": "python",
   "name": "base"
  },
  "language_info": {
   "codemirror_mode": {
    "name": "ipython",
    "version": 3
   },
   "file_extension": ".py",
   "mimetype": "text/x-python",
   "name": "python",
   "nbconvert_exporter": "python",
   "pygments_lexer": "ipython3",
   "version": "3.9.13"
  }
 },
 "nbformat": 4,
 "nbformat_minor": 5
}
