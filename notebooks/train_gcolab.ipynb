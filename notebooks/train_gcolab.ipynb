{
  "cells": [
    {
      "cell_type": "code",
      "execution_count": null,
      "id": "479f7b08-f2b0-49f1-b7f4-f4cb3b30b9e3",
      "metadata": {
        "id": "479f7b08-f2b0-49f1-b7f4-f4cb3b30b9e3"
      },
      "outputs": [],
      "source": [
        "# What version of Python do you have?\n",
        "import sys\n",
        "\n",
        "import pandas as pd\n",
        "import sklearn as sk\n",
        "import tensorflow as tf\n",
        "import platform\n",
        "\n",
        "print(f\"Python Platform: {platform.platform()}\")\n",
        "print(f\"Python {sys.version}\")\n",
        "print(f\"Pandas {pd.__version__}\")\n",
        "print(f\"Scikit-Learn {sk.__version__}\")\n",
        "gpu = len(tf.config.list_physical_devices('GPU'))>0\n",
        "print(\"GPU is\", \"available\" if gpu else \"NOT AVAILABLE\")"
      ]
    },
    {
      "cell_type": "code",
      "execution_count": null,
      "id": "1076ab56",
      "metadata": {
        "id": "1076ab56"
      },
      "outputs": [],
      "source": [
        "sys.path.append(\"..\")"
      ]
    },
    {
      "cell_type": "code",
      "execution_count": null,
      "id": "a7a11ce3",
      "metadata": {
        "id": "a7a11ce3"
      },
      "outputs": [],
      "source": [
        "from google.colab import drive\n",
        "drive.mount('/content/drive')"
      ]
    },
    {
      "cell_type": "code",
      "source": [
        "import os\n",
        "os.chdir(\"drive/MyDrive/Colab Notebooks/dissidentia\")"
      ],
      "metadata": {
        "id": "YWwdyuqYx7nH"
      },
      "id": "YWwdyuqYx7nH",
      "execution_count": null,
      "outputs": []
    },
    {
      "cell_type": "code",
      "source": [
        "!pip install wget\n",
        "!pip install doccano_client\n",
        "!pip install datasets\n",
        "!pip install transformers"
      ],
      "metadata": {
        "id": "2L9WPldKyPGw"
      },
      "id": "2L9WPldKyPGw",
      "execution_count": null,
      "outputs": []
    },
    {
      "cell_type": "code",
      "source": [
        "%run dissidentia/application/train.py -s"
      ],
      "metadata": {
        "id": "88kAXCIisae1"
      },
      "id": "88kAXCIisae1",
      "execution_count": null,
      "outputs": []
    }
  ],
  "metadata": {
    "kernelspec": {
      "display_name": "Python 3",
      "name": "python3"
    },
    "language_info": {
      "name": "python"
    },
    "colab": {
      "provenance": []
    },
    "accelerator": "GPU",
    "gpuClass": "standard"
  },
  "nbformat": 4,
  "nbformat_minor": 5
}